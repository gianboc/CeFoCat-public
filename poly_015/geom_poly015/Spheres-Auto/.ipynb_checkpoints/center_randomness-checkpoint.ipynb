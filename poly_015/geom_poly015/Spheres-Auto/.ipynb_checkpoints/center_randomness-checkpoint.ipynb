{
 "cells": [
  {
   "cell_type": "code",
   "execution_count": 1,
   "metadata": {
    "ExecuteTime": {
     "end_time": "2020-10-01T15:02:38.052765Z",
     "start_time": "2020-10-01T15:02:37.544419Z"
    }
   },
   "outputs": [],
   "source": [
    "import numpy as np\n",
    "import pandas as pd\n",
    "import pickle as pk\n",
    "import matplotlib.pyplot as plt\n"
   ]
  },
  {
   "cell_type": "code",
   "execution_count": 110,
   "metadata": {
    "ExecuteTime": {
     "end_time": "2020-10-01T16:07:54.626947Z",
     "start_time": "2020-10-01T16:07:54.612564Z"
    }
   },
   "outputs": [],
   "source": [
    "with open('centroids.pickle','rb') as f1:\n",
    "    coord = pk.load(f1)\n",
    "with open('names.pickle','rb') as f1:\n",
    "    names = pk.load(f1)\n",
    "with open('radii.pickle','rb') as f1:\n",
    "    dims = pk.load(f1)\n"
   ]
  },
  {
   "cell_type": "code",
   "execution_count": 111,
   "metadata": {
    "ExecuteTime": {
     "end_time": "2020-10-01T16:07:55.529979Z",
     "start_time": "2020-10-01T16:07:55.510177Z"
    }
   },
   "outputs": [],
   "source": [
    "cs = 'Icosphere'\n",
    "ico = [i for i, s in enumerate(names) if cs in s]\n",
    "names = names[ico]"
   ]
  },
  {
   "cell_type": "code",
   "execution_count": 112,
   "metadata": {
    "ExecuteTime": {
     "end_time": "2020-10-01T16:07:56.197471Z",
     "start_time": "2020-10-01T16:07:56.189562Z"
    }
   },
   "outputs": [],
   "source": [
    "coord = coord[ico]"
   ]
  },
  {
   "cell_type": "code",
   "execution_count": 113,
   "metadata": {
    "ExecuteTime": {
     "end_time": "2020-10-01T16:07:56.749503Z",
     "start_time": "2020-10-01T16:07:56.739576Z"
    }
   },
   "outputs": [],
   "source": [
    "data = pd.DataFrame(coord,index=names, columns=['x','y','z'])"
   ]
  },
  {
   "cell_type": "code",
   "execution_count": 139,
   "metadata": {
    "ExecuteTime": {
     "end_time": "2020-10-01T16:14:08.658771Z",
     "start_time": "2020-10-01T16:14:08.650899Z"
    }
   },
   "outputs": [],
   "source": [
    "radius = 0.4"
   ]
  },
  {
   "cell_type": "code",
   "execution_count": 140,
   "metadata": {
    "ExecuteTime": {
     "end_time": "2020-10-01T16:14:09.073904Z",
     "start_time": "2020-10-01T16:14:09.064261Z"
    }
   },
   "outputs": [],
   "source": [
    "def z_ranger(z,r):\n",
    "    z_min = z - r\n",
    "    z_max = z + r\n",
    "    return (z_min, z_max)"
   ]
  },
  {
   "cell_type": "code",
   "execution_count": 153,
   "metadata": {
    "ExecuteTime": {
     "end_time": "2020-10-01T16:15:05.203179Z",
     "start_time": "2020-10-01T16:15:05.192034Z"
    }
   },
   "outputs": [],
   "source": [
    "z_range = z_ranger(5,0.5)"
   ]
  },
  {
   "cell_type": "code",
   "execution_count": 154,
   "metadata": {
    "ExecuteTime": {
     "end_time": "2020-10-01T16:15:05.672583Z",
     "start_time": "2020-10-01T16:15:05.667762Z"
    }
   },
   "outputs": [],
   "source": [
    "coord_slice = data.loc[(data['z'] >= z_range[0]) & (data['z'] <= z_range[1])]\n"
   ]
  },
  {
   "cell_type": "code",
   "execution_count": 155,
   "metadata": {
    "ExecuteTime": {
     "end_time": "2020-10-01T16:15:06.161375Z",
     "start_time": "2020-10-01T16:15:06.150825Z"
    }
   },
   "outputs": [],
   "source": [
    "from matplotlib.patches import Rectangle\n"
   ]
  },
  {
   "cell_type": "code",
   "execution_count": 156,
   "metadata": {
    "ExecuteTime": {
     "end_time": "2020-10-01T16:15:06.944821Z",
     "start_time": "2020-10-01T16:15:06.575211Z"
    }
   },
   "outputs": [
    {
     "data": {
      "image/png": "[encoded data removed]",
      "text/plain": [
       "<Figure size 1200x800 with 1 Axes>"
      ]
     },
     "metadata": {},
     "output_type": "display_data"
    }
   ],
   "source": [
    "plt.figure(figsize=(12,8), dpi= 100, facecolor='w', edgecolor='k')\n",
    "\n",
    "ax = plt.subplot()\n",
    "\n",
    "plt.scatter(coord_slice['x'], coord_slice['y'],  s=3, color='black')\n",
    "someX, someY = 0,0\n",
    "currentAxis = plt.gca()\n",
    "currentAxis.add_patch(Rectangle((-2, -2), 4, 4, color=\"red\", fill=False,LineWidth=2))\n",
    "# currentAxis.add_patch(Rectangle((-5, -5), 10, 10, color=\"black\", fill=False))\n",
    "plt.xticks(np.arange(-5,6,1))\n",
    "plt.yticks(np.arange(-5,6,1))\n",
    "# plt.xlim(-6,6)\n",
    "# plt.ylim(-6,6)\n",
    "plt.grid()\n",
    "ax.set_aspect('equal')"
   ]
  },
  {
   "cell_type": "code",
   "execution_count": 127,
   "metadata": {
    "ExecuteTime": {
     "end_time": "2020-10-01T16:10:29.179016Z",
     "start_time": "2020-10-01T16:10:29.162793Z"
    }
   },
   "outputs": [],
   "source": [
    "data_allowed = data.loc[(data['z'] >= 0) & (data['z'] <= 9.5)]\n"
   ]
  },
  {
   "cell_type": "code",
   "execution_count": 128,
   "metadata": {
    "ExecuteTime": {
     "end_time": "2020-10-01T16:10:29.793833Z",
     "start_time": "2020-10-01T16:10:29.783401Z"
    }
   },
   "outputs": [
    {
     "data": {
      "text/plain": [
       "(1083, 3)"
      ]
     },
     "execution_count": 128,
     "metadata": {},
     "output_type": "execute_result"
    }
   ],
   "source": [
    "data_allowed.shape"
   ]
  },
  {
   "cell_type": "code",
   "execution_count": null,
   "metadata": {},
   "outputs": [],
   "source": []
  }
 ],
 "metadata": {
  "kernelspec": {
   "display_name": "Python 3",
   "language": "python",
   "name": "python3"
  },
  "language_info": {
   "codemirror_mode": {
    "name": "ipython",
    "version": 3
   },
   "file_extension": ".py",
   "mimetype": "text/x-python",
   "name": "python",
   "nbconvert_exporter": "python",
   "pygments_lexer": "ipython3",
   "version": "3.7.7"
  },
  "latex_envs": {
   "LaTeX_envs_menu_present": true,
   "autoclose": false,
   "autocomplete": true,
   "bibliofile": "biblio.bib",
   "cite_by": "apalike",
   "current_citInitial": 1,
   "eqLabelWithNumbers": true,
   "eqNumInitial": 1,
   "hotkeys": {
    "equation": "Ctrl-E",
    "itemize": "Ctrl-I"
   },
   "labels_anchors": false,
   "latex_user_defs": false,
   "report_style_numbering": false,
   "user_envs_cfg": false
  },
  "varInspector": {
   "cols": {
    "lenName": 16,
    "lenType": 16,
    "lenVar": 40
   },
   "kernels_config": {
    "python": {
     "delete_cmd_postfix": "",
     "delete_cmd_prefix": "del ",
     "library": "var_list.py",
     "varRefreshCmd": "print(var_dic_list())"
    },
    "r": {
     "delete_cmd_postfix": ") ",
     "delete_cmd_prefix": "rm(",
     "library": "var_list.r",
     "varRefreshCmd": "cat(var_dic_list()) "
    }
   },
   "types_to_exclude": [
    "module",
    "function",
    "builtin_function_or_method",
    "instance",
    "_Feature"
   ],
   "window_display": false
  }
 },
 "nbformat": 4,
 "nbformat_minor": 4
}
